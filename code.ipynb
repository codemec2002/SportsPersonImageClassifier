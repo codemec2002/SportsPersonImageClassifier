{
 "cells": [
  {
   "cell_type": "code",
   "execution_count": null,
   "id": "3de56568",
   "metadata": {},
   "outputs": [],
   "source": [
    "import pywt\n",
    "import cv2\n",
    "import seaborn as sns\n",
    "import numpy as np\n",
    "import matplotlib\n",
    "from matplotlib import pyplot as plt\n",
    "%matplotlib inline\n",
    "\n",
    "print(\"All libraries installed successfully!\")\n"
   ]
  },
  {
   "cell_type": "code",
   "execution_count": null,
   "id": "369eb3d9",
   "metadata": {},
   "outputs": [],
   "source": [
    "img = cv2.imread(r'D:\\College\\NCI\\VScode\\Supervised_image_classification\\celebrity_faces\\lionel_messi\\_111066400_messi.jpg')\n",
    "img.shape"
   ]
  },
  {
   "cell_type": "code",
   "execution_count": null,
   "id": "c11cb553",
   "metadata": {},
   "outputs": [],
   "source": [
    "plt.imshow(img)"
   ]
  },
  {
   "cell_type": "code",
   "execution_count": null,
   "id": "d4093652",
   "metadata": {},
   "outputs": [],
   "source": [
    "gray = cv2.cvtColor(img, cv2.COLOR_BGR2GRAY)\n",
    "gray.shape"
   ]
  },
  {
   "cell_type": "code",
   "execution_count": null,
   "id": "bbf90809",
   "metadata": {},
   "outputs": [],
   "source": [
    "plt.imshow(gray, cmap='gray')"
   ]
  },
  {
   "cell_type": "code",
   "execution_count": null,
   "id": "fe19e87c",
   "metadata": {},
   "outputs": [],
   "source": [
    "face_cascade = cv2.CascadeClassifier(cv2.data.haarcascades + 'haarcascade_frontalface_default.xml')\n",
    "eye_cascade = cv2.CascadeClassifier(r'D:\\College\\NCI\\VScode\\Supervised_image_classification\\open_cv\\haarcascades\\haarcascade_eye.xml')\n",
    "\n",
    "faces = face_cascade.detectMultiScale(gray, 1.3, 5)\n",
    "faces\n",
    "eyes = eye_cascade.detectMultiScale(gray)\n",
    "eyes"
   ]
  },
  {
   "cell_type": "code",
   "execution_count": null,
   "id": "e743cbb1",
   "metadata": {},
   "outputs": [],
   "source": [
    "for (x, y, w, h) in faces:\n",
    "    cv2.rectangle(gray, (x, y), (x+w, y+h), (255, 0, 0), 2)\n",
    "\n",
    "plt.imshow(gray, cmap='gray')\n",
    "plt.axis('off')\n",
    "plt.show()\n"
   ]
  },
  {
   "cell_type": "code",
   "execution_count": null,
   "id": "f949ec2c",
   "metadata": {},
   "outputs": [],
   "source": [
    "\n",
    "for (x,y,w,h) in faces:\n",
    "    img = cv2.rectangle(img,(x,y),(x+w,y+h),(255,0,0),2)\n",
    "    roi_gray = gray[y:y+h, x:x+w]\n",
    "    roi_color = img[y:y+h, x:x+w]\n",
    "    eyes = eye_cascade.detectMultiScale(roi_gray)\n",
    "    for (ex,ey,ew,eh) in eyes:\n",
    "        cv2.rectangle(roi_color,(ex,ey),(ex+ew,ey+eh),(0,255,0),2)\n",
    "\n",
    "cv2.imshow('img',img)\n",
    "cv2.waitKey(0)\n",
    "cv2.destroyAllWindows()"
   ]
  },
  {
   "cell_type": "code",
   "execution_count": null,
   "id": "6d94875a",
   "metadata": {},
   "outputs": [],
   "source": [
    "import matplotlib.pyplot as plt\n",
    "\n",
    "def get_croped_face(image_path):\n",
    "    img = cv2.imread(image_path)\n",
    "    if img is None:\n",
    "        print(\"Image not found:\", image_path)\n",
    "        return None\n",
    "\n",
    "    gray = cv2.cvtColor(img, cv2.COLOR_BGR2GRAY)\n",
    "\n",
    "    face_cascade = cv2.CascadeClassifier(cv2.data.haarcascades + 'haarcascade_frontalface_default.xml')\n",
    "    eye_cascade = cv2.CascadeClassifier(cv2.data.haarcascades + 'haarcascade_eye.xml')\n",
    "\n",
    "    faces = face_cascade.detectMultiScale(gray, 1.3, 5)\n",
    "    for (x, y, w, h) in faces:\n",
    "        roi_color = img[y:y+h, x:x+w]\n",
    "        roi_gray = gray[y:y+h, x:x+w]\n",
    "        eyes = eye_cascade.detectMultiScale(roi_gray)\n",
    "        if len(eyes) >= 1:\n",
    "            return roi_color\n",
    "\n",
    "    return None"
   ]
  },
  {
   "cell_type": "code",
   "execution_count": null,
   "id": "3a5aafb5",
   "metadata": {},
   "outputs": [],
   "source": [
    "original_image = cv2.imread(r'D:\\College\\NCI\\VScode\\Supervised_image_classification\\celebrity_faces\\virat_kohli\\fc47090678.jpg')\n",
    "plt.imshow(original_image)"
   ]
  },
  {
   "cell_type": "code",
   "execution_count": null,
   "id": "e13f3ae3",
   "metadata": {},
   "outputs": [],
   "source": [
    "cropped_face = get_croped_face(r'D:\\College\\NCI\\VScode\\Supervised_image_classification\\celebrity_faces\\virat_kohli\\fc47090678.jpg')\n",
    "if isinstance(cropped_face, type(None)):\n",
    "    print(\"No face detected.\")\n",
    "else:\n",
    "    plt.imshow(cv2.cvtColor(cropped_face, cv2.COLOR_BGR2RGB))\n",
    "    plt.axis('off')\n",
    "    plt.show()"
   ]
  },
  {
   "cell_type": "code",
   "execution_count": null,
   "id": "a737776d",
   "metadata": {},
   "outputs": [],
   "source": [
    "path_to_dataset = r'D:\\College\\NCI\\VScode\\Supervised_image_classification\\celebrity_faces'\n",
    "path_to_cr_data = r'D:\\College\\NCI\\VScode\\Supervised_image_classification\\cropped_celebrity_faces'"
   ]
  },
  {
   "cell_type": "code",
   "execution_count": null,
   "id": "1c3e0f6c",
   "metadata": {},
   "outputs": [],
   "source": [
    "import os\n",
    "img_dirs = []\n",
    "for entry in os.scandir(path_to_dataset):\n",
    "    if entry.is_dir():\n",
    "        img_dirs.append(entry.path)"
   ]
  },
  {
   "cell_type": "code",
   "execution_count": null,
   "id": "b24ef036",
   "metadata": {},
   "outputs": [],
   "source": [
    "img_dirs"
   ]
  },
  {
   "cell_type": "code",
   "execution_count": null,
   "id": "c1a04613",
   "metadata": {},
   "outputs": [],
   "source": [
    "import shutil\n",
    "if os.path.exists(path_to_cr_data):\n",
    "    shutil.rmtree(path_to_cr_data)\n",
    "os.makedirs(path_to_cr_data)"
   ]
  },
  {
   "cell_type": "code",
   "execution_count": null,
   "id": "60b27152",
   "metadata": {},
   "outputs": [],
   "source": [
    "cropped_img_dir = []\n",
    "celebrity_file_names_dict = {}\n",
    "\n",
    "for img_dir in img_dirs:\n",
    "    count = 1\n",
    "    celebrity_name = img_dir.split('\\\\')[-1]\n",
    "    print(\"Processing images for celebrity:\", celebrity_name)\n",
    "    celebrity_file_names_dict[celebrity_name] = []\n",
    "\n",
    "    for entry in os.scandir(img_dir):\n",
    "        roi_color = get_croped_face(entry.path)\n",
    "        if isinstance(roi_color, type(None)):\n",
    "            print(\"No face detected in image:\", entry.path)\n",
    "            continue\n",
    "        else:\n",
    "            cropped_folder = path_to_cr_data + '\\\\' + celebrity_name\n",
    "            if not os.path.exists(cropped_folder):\n",
    "                os.makedirs(cropped_folder)\n",
    "                cropped_img_dir.append(cropped_folder)\n",
    "                print(\"Created directory:\", cropped_folder)\n",
    "\n",
    "            cropped_file_name = celebrity_name + str(count) + '.jpg'\n",
    "            cropped_file_path = cropped_folder + '\\\\' + cropped_file_name\n",
    "\n",
    "            cv2.imwrite(cropped_file_path, roi_color)\n",
    "            celebrity_file_names_dict[celebrity_name].append(cropped_file_path)\n",
    "            count += 1\n"
   ]
  },
  {
   "cell_type": "code",
   "execution_count": null,
   "id": "58e7ea70",
   "metadata": {},
   "outputs": [],
   "source": [
    "def w2d(img, mode='haar', level=1):\n",
    "    imArray = img\n",
    "    imArray = cv2.cvtColor(imArray, cv2.COLOR_BGR2GRAY)\n",
    "    imArray = np.float32(imArray)\n",
    "    imArray /= 255;\n",
    "\n",
    "    coeffs = pywt.wavedec2(imArray, mode, level=level)\n",
    "\n",
    "    coeffs_H = list(coeffs)\n",
    "    coeffs_H[0] *= 0;\n",
    "\n",
    "    imArray_H = pywt.waverec2(coeffs_H, mode);\n",
    "    imArray_H *= 255;\n",
    "    imArray_H = np.uint8(imArray_H)\n",
    "\n",
    "    return imArray_H"
   ]
  },
  {
   "cell_type": "code",
   "execution_count": null,
   "id": "9c5791a3",
   "metadata": {},
   "outputs": [],
   "source": [
    "class_dict = {}\n",
    "count = 0\n",
    "for celebrity_name in celebrity_file_names_dict.keys():\n",
    "    class_dict[celebrity_name] = count\n",
    "    count += 1\n",
    "class_dict"
   ]
  },
  {
   "cell_type": "code",
   "execution_count": null,
   "id": "78ba4a42",
   "metadata": {},
   "outputs": [],
   "source": [
    "X = []\n",
    "Y = []\n",
    "\n",
    "for celebrity_name, training_files in celebrity_file_names_dict.items():\n",
    "    for training_image in training_files:\n",
    "        img = cv2.imread(training_image)\n",
    "        if img is None:\n",
    "            continue\n",
    "        scaled_raw_img = cv2.resize(img, (32, 32))\n",
    "        img_har = w2d(scaled_raw_img, 'db1', 5)  # Fixed: changed scaled_img to scaled_raw_img\n",
    "        scaled_img_har = cv2.resize(img_har, (32, 32))\n",
    "        combined_img = np.vstack((scaled_raw_img.reshape(32*32*3,1), scaled_img_har.reshape(32*32,1)))\n",
    "        X.append(combined_img)\n",
    "        Y.append(class_dict[celebrity_name])\n"
   ]
  },
  {
   "cell_type": "code",
   "execution_count": null,
   "id": "b6afb200",
   "metadata": {},
   "outputs": [],
   "source": [
    "print(f\"Length of X: {len(X[0])}\")"
   ]
  },
  {
   "cell_type": "code",
   "execution_count": null,
   "id": "07805df8",
   "metadata": {},
   "outputs": [],
   "source": [
    "X[0]"
   ]
  },
  {
   "cell_type": "code",
   "execution_count": null,
   "id": "b516523c",
   "metadata": {},
   "outputs": [],
   "source": [
    "X = np.array(X).reshape(len(X), 4096).astype(float)\n",
    "X.shape"
   ]
  },
  {
   "cell_type": "code",
   "execution_count": null,
   "id": "39725b9f",
   "metadata": {},
   "outputs": [],
   "source": [
    "X[0]"
   ]
  },
  {
   "cell_type": "markdown",
   "id": "ef2af074",
   "metadata": {},
   "source": [
    "* Data Cleaning is done, now we will train\n",
    "\n",
    "#### we will use SVM with rbf kernel tuned with  heuristic finetuning"
   ]
  },
  {
   "cell_type": "code",
   "execution_count": null,
   "id": "8b99686f",
   "metadata": {},
   "outputs": [],
   "source": [
    "from sklearn.svm import SVC\n",
    "from sklearn.preprocessing import StandardScaler\n",
    "from sklearn.model_selection import train_test_split\n",
    "from sklearn.pipeline import Pipeline\n",
    "from sklearn.metrics import classification_report"
   ]
  },
  {
   "cell_type": "code",
   "execution_count": null,
   "id": "e54ccbe6",
   "metadata": {},
   "outputs": [],
   "source": [
    "X_train, X_test, Y_train, Y_test = train_test_split(X, Y, test_size=0.2, random_state=42)\n",
    "\n",
    "pipe = Pipeline([('scaler', StandardScaler()), ('svc', SVC(kernel='rbf', C=10))])\n",
    "pipe.fit(X_train, Y_train)\n",
    "pipe.score(X_test, Y_test)"
   ]
  },
  {
   "cell_type": "code",
   "execution_count": null,
   "id": "e02cb0cd",
   "metadata": {},
   "outputs": [],
   "source": [
    "print(classification_report(Y_test, pipe.predict(X_test)))"
   ]
  },
  {
   "cell_type": "code",
   "execution_count": null,
   "id": "05baa8d0",
   "metadata": {},
   "outputs": [],
   "source": [
    "from sklearn import svm\n",
    "from sklearn.ensemble import RandomForestClassifier\n",
    "from sklearn.linear_model import LogisticRegression\n",
    "from sklearn.pipeline import make_pipeline\n",
    "from sklearn.model_selection import GridSearchCV"
   ]
  },
  {
   "cell_type": "code",
   "execution_count": null,
   "id": "7998f5a9",
   "metadata": {},
   "outputs": [],
   "source": [
    "model_parameters = {\n",
    "    'svm': {\n",
    "        'model': svm.SVC(gamma='auto', probability=True),\n",
    "        'params': {\n",
    "            'svc__C': [1, 10, 100], \n",
    "            'svc__kernel': ['linear', 'rbf', 'poly']  \n",
    "        }\n",
    "    },\n",
    "    'random_forest': {\n",
    "        'model': RandomForestClassifier(),\n",
    "        'params': {\n",
    "            'randomforestclassifier__n_estimators': [1, 5, 10]  \n",
    "        }\n",
    "    },\n",
    "    'logistic_regression': {\n",
    "        'model': LogisticRegression(solver='liblinear', multi_class='auto'),\n",
    "        'params': {\n",
    "            'logisticregression__C': [1, 5, 10]  \n",
    "        }\n",
    "    }\n",
    "}"
   ]
  },
  {
   "cell_type": "code",
   "execution_count": null,
   "id": "6904d198",
   "metadata": {},
   "outputs": [],
   "source": [
    "scores = []\n",
    "best_estimator = {}\n",
    "import pandas as pd\n",
    "for algo, mp in model_parameters.items():\n",
    "    pipe = make_pipeline(StandardScaler(), mp['model'])\n",
    "    clf = GridSearchCV(pipe, mp['params'], cv=5, return_train_score=False)\n",
    "    clf.fit(X_train, Y_train)\n",
    "    scores.append({\n",
    "        'model': algo,\n",
    "        'best_score': clf.best_score_,\n",
    "        'best_params': clf.best_params_\n",
    "    })\n",
    "    best_estimator[algo] = clf.best_estimator_\n",
    "\n",
    "df = pd.DataFrame(scores, columns=['model', 'best_score', 'best_params'])\n",
    "df"
   ]
  },
  {
   "cell_type": "code",
   "execution_count": null,
   "id": "74d12ff5",
   "metadata": {},
   "outputs": [],
   "source": [
    "best_estimator['svm'].score(X_test, Y_test)"
   ]
  },
  {
   "cell_type": "code",
   "execution_count": null,
   "id": "2f9612ae",
   "metadata": {},
   "outputs": [],
   "source": [
    "best_estimator['random_forest'].score(X_test, Y_test)"
   ]
  },
  {
   "cell_type": "code",
   "execution_count": null,
   "id": "747fcdb6",
   "metadata": {},
   "outputs": [],
   "source": [
    "best_estimator['logistic_regression'].score(X_test, Y_test)"
   ]
  },
  {
   "cell_type": "code",
   "execution_count": null,
   "id": "40b91832",
   "metadata": {},
   "outputs": [],
   "source": [
    "best_clf = best_estimator['svm']"
   ]
  },
  {
   "cell_type": "code",
   "execution_count": null,
   "id": "38c526ab",
   "metadata": {},
   "outputs": [],
   "source": [
    "from sklearn.metrics import confusion_matrix\n",
    "cm = confusion_matrix(Y_test, best_clf.predict(X_test))\n",
    "cm"
   ]
  },
  {
   "cell_type": "code",
   "execution_count": null,
   "id": "2a5d6bc4",
   "metadata": {},
   "outputs": [],
   "source": [
    "import seaborn as sns\n",
    "plt.figure(figsize=(10,7))\n",
    "sns.heatmap(cm, annot=True)\n",
    "plt.xlabel('Predicted')\n",
    "plt.ylabel('Truth')\n",
    "plt.show()"
   ]
  },
  {
   "cell_type": "code",
   "execution_count": null,
   "id": "29266f72",
   "metadata": {},
   "outputs": [],
   "source": [
    "!pip install joblib\n",
    "import joblib\n",
    "\n",
    "joblib.dump(best_clf, 'saved_model.pkl')"
   ]
  },
  {
   "cell_type": "code",
   "execution_count": null,
   "id": "76feeace",
   "metadata": {},
   "outputs": [],
   "source": [
    "import json as js\n",
    "with open('class_dictionary.json', 'w') as f:\n",
    "    f.write(js.dumps(class_dict))"
   ]
  }
 ],
 "metadata": {
  "kernelspec": {
   "display_name": "Python 3",
   "language": "python",
   "name": "python3"
  },
  "language_info": {
   "codemirror_mode": {
    "name": "ipython",
    "version": 3
   },
   "file_extension": ".py",
   "mimetype": "text/x-python",
   "name": "python",
   "nbconvert_exporter": "python",
   "pygments_lexer": "ipython3",
   "version": "3.11.9"
  }
 },
 "nbformat": 4,
 "nbformat_minor": 5
}
